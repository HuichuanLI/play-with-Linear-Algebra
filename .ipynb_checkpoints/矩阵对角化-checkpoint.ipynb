{
 "cells": [
  {
   "cell_type": "code",
   "execution_count": 14,
   "metadata": {},
   "outputs": [],
   "source": [
    "import numpy as np \n",
    "from numpy.linalg import eig,inv\n",
    "from playLA.LinearSystem1 import rank\n",
    "from playLA.Matrix import Matrix\n",
    "\n",
    "def diagonalize(A):\n",
    "    assert A.ndim ==2,\"A must be a matrix\"\n",
    "    assert A.shape[0] == A.shape[1],\"A must be square\"\n",
    "    \n",
    "\n",
    "    \n",
    "    eignvalues,eignvector = eig(A)\n",
    "    P = eignvector\n",
    "    if rank(Matrix(P.tolist())) != A.shape[0]:\n",
    "        print(\"Matrix can not be diagonalized!\")\n",
    "        return None, None, None\n",
    "    D = np.diag(eignvalues)\n",
    "    Pinv = inv(P)\n",
    "    return P,D,Pinv\n"
   ]
  },
  {
   "cell_type": "code",
   "execution_count": 15,
   "metadata": {},
   "outputs": [
    {
     "name": "stdout",
     "output_type": "stream",
     "text": [
      "[[0.89442719 0.70710678]\n",
      " [0.4472136  0.70710678]]\n",
      "[[3. 0.]\n",
      " [0. 2.]]\n",
      "[[ 2.23606798 -2.23606798]\n",
      " [-1.41421356  2.82842712]]\n",
      "[[ 4. -2.]\n",
      " [ 1.  1.]]\n",
      "\n",
      "Matrix can not be diagonalized!\n",
      "None\n",
      "None\n",
      "None\n",
      "\n"
     ]
    }
   ],
   "source": [
    "if __name__ == \"__main__\":\n",
    "\n",
    "    A1 = np.array([[4, -2],\n",
    "                   [1, 1]])\n",
    "    P1, D1, Pinv1 = diagonalize(A1)\n",
    "    print(P1)\n",
    "    print(D1)\n",
    "    print(Pinv1)\n",
    "    print(P1.dot(D1).dot(Pinv1))\n",
    "    print()\n",
    "\n",
    "\n",
    "    A2 = np.array([[3, 1],\n",
    "                   [0, 3]])\n",
    "    P2, D2, Pinv2 = diagonalize(A2)\n",
    "    print(P2)\n",
    "    print(D2)\n",
    "    print(Pinv2)\n",
    "    print()"
   ]
  }
 ],
 "metadata": {
  "kernelspec": {
   "display_name": "Python 3",
   "language": "python",
   "name": "python3"
  },
  "language_info": {
   "codemirror_mode": {
    "name": "ipython",
    "version": 3
   },
   "file_extension": ".py",
   "mimetype": "text/x-python",
   "name": "python",
   "nbconvert_exporter": "python",
   "pygments_lexer": "ipython3",
   "version": "3.7.3"
  }
 },
 "nbformat": 4,
 "nbformat_minor": 2
}
