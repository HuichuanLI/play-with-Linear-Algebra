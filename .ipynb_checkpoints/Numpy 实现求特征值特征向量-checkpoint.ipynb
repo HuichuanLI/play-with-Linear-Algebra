{
 "cells": [
  {
   "cell_type": "code",
   "execution_count": 1,
   "metadata": {},
   "outputs": [],
   "source": [
    "import numpy as np"
   ]
  },
  {
   "cell_type": "code",
   "execution_count": 2,
   "metadata": {},
   "outputs": [],
   "source": [
    "from numpy.linalg import eig"
   ]
  },
  {
   "cell_type": "code",
   "execution_count": 3,
   "metadata": {},
   "outputs": [],
   "source": [
    "A1 = np.array([[4, -2],\n",
    "                   [1, 1]]);"
   ]
  },
  {
   "cell_type": "code",
   "execution_count": 5,
   "metadata": {},
   "outputs": [
    {
     "name": "stdout",
     "output_type": "stream",
     "text": [
      "[3. 2.]\n",
      "[[0.89442719 0.70710678]\n",
      " [0.4472136  0.70710678]]\n",
      "\n"
     ]
    }
   ],
   "source": [
    "eigenvalues1, eigenvectors1 = eig(A1);\n",
    "print(eigenvalues1)\n",
    "print(eigenvectors1)\n",
    "print()\n"
   ]
  },
  {
   "cell_type": "code",
   "execution_count": 7,
   "metadata": {},
   "outputs": [
    {
     "name": "stdout",
     "output_type": "stream",
     "text": [
      "[ 1. -1.]\n",
      "[[ 0.70710678 -0.70710678]\n",
      " [ 0.70710678  0.70710678]]\n",
      "\n"
     ]
    }
   ],
   "source": [
    "A2 = np.array([[0, 1],\n",
    "               [1, 0]]);\n",
    "eigenvalues2, eigenvectors2 = eig(A2);\n",
    "print(eigenvalues2)\n",
    "print(eigenvectors2)\n",
    "print()\n"
   ]
  },
  {
   "cell_type": "code",
   "execution_count": 9,
   "metadata": {},
   "outputs": [
    {
     "name": "stdout",
     "output_type": "stream",
     "text": [
      "[0.+1.j 0.-1.j]\n",
      "[[0.70710678+0.j         0.70710678-0.j        ]\n",
      " [0.        -0.70710678j 0.        +0.70710678j]]\n",
      "\n"
     ]
    }
   ],
   "source": [
    "A3 = np.array([[0, -1],\n",
    "               [1, 0]]);\n",
    "eigenvalues3, eigenvectors3 = eig(A3);\n",
    "print(eigenvalues3)\n",
    "print(eigenvectors3)\n",
    "print()\n"
   ]
  },
  {
   "cell_type": "code",
   "execution_count": 10,
   "metadata": {},
   "outputs": [
    {
     "name": "stdout",
     "output_type": "stream",
     "text": [
      "[1. 1.]\n",
      "[[1. 0.]\n",
      " [0. 1.]]\n",
      "\n"
     ]
    }
   ],
   "source": [
    "    A4 = np.array([[1, 0],\n",
    "                   [0, 1]]);\n",
    "    eigenvalues4, eigenvectors4 = eig(A4);\n",
    "    print(eigenvalues4)\n",
    "    print(eigenvectors4)\n",
    "    print()"
   ]
  },
  {
   "cell_type": "code",
   "execution_count": 11,
   "metadata": {},
   "outputs": [
    {
     "name": "stdout",
     "output_type": "stream",
     "text": [
      "[3. 3.]\n",
      "[[ 1.00000000e+00 -1.00000000e+00]\n",
      " [ 0.00000000e+00  6.66133815e-16]]\n",
      "\n"
     ]
    }
   ],
   "source": [
    "    A5 = np.array([[3, 1],\n",
    "                   [0, 3]]);\n",
    "    eigenvalues5, eigenvectors5 = eig(A5);\n",
    "    print(eigenvalues5)\n",
    "    print(eigenvectors5)\n",
    "    print()"
   ]
  }
 ],
 "metadata": {
  "kernelspec": {
   "display_name": "Python 3",
   "language": "python",
   "name": "python3"
  },
  "language_info": {
   "codemirror_mode": {
    "name": "ipython",
    "version": 3
   },
   "file_extension": ".py",
   "mimetype": "text/x-python",
   "name": "python",
   "nbconvert_exporter": "python",
   "pygments_lexer": "ipython3",
   "version": "3.7.3"
  }
 },
 "nbformat": 4,
 "nbformat_minor": 2
}
